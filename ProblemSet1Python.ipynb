{
 "cells": [
  {
   "cell_type": "markdown",
   "id": "80b514a1",
   "metadata": {},
   "source": [
    "<h1 style=\"font-size:3rem;color:orange;\"> Problem Set 1 - Solutions</h1>"
   ]
  },
  {
   "cell_type": "markdown",
   "id": "48063a23",
   "metadata": {},
   "source": [
    "<h1 style=\"font-size:2.5rem;color:green;\"> Priyanshu Singla - 200522518 - Sction 4</h1>"
   ]
  },
  {
   "cell_type": "markdown",
   "id": "9081b956",
   "metadata": {},
   "source": [
    "### Question 6 - Write a function pig() that takes a word (i.e., a string) as input and returns its pig-Latin form. Your function should still works if the input word contains upper case characters. Your output should always be lower case owever."
   ]
  },
  {
   "cell_type": "code",
   "execution_count": 6,
   "id": "f2c5e003",
   "metadata": {},
   "outputs": [
    {
     "name": "stdout",
     "output_type": "stream",
     "text": [
      "appyhay\n",
      "enterway\n"
     ]
    }
   ],
   "source": [
    "def pig(word):\n",
    "    word = word.lower()\n",
    "    if word[0] in {\"a\", \"e\", \"i\", \"o\", \"u\"}:\n",
    "        print(word + \"way\")\n",
    "    else:\n",
    "        word = word + word[0]\n",
    "        word = word[1:]\n",
    "        print(word + \"ay\")\n",
    "\n",
    "# usr_input = input(\"Enter a string : \")\n",
    "# pig(usr_input)\n",
    "\n",
    "pig(\"happy\")\n",
    "pig(\"Enter\")"
   ]
  },
  {
   "cell_type": "markdown",
   "id": "618e416f",
   "metadata": {},
   "source": [
    "### Question 7 - File bloodtype1.txt records blood-types of patients (A, B, AB, O, OO) at a clininc. Write a function bldcount() that reads the file with name name and reports how many patients there are in each bloodtype."
   ]
  },
  {
   "cell_type": "code",
   "execution_count": 7,
   "id": "6c1dbf72",
   "metadata": {},
   "outputs": [
    {
     "name": "stdout",
     "output_type": "stream",
     "text": [
      "There are 15 patients of blood type A.\n",
      "There are 1 patients of blood type B.\n",
      "There are 13 patients of blood type AB.\n",
      "There are 15 patients of blood type O.\n",
      "There are 0 patients of blood type OO.\n"
     ]
    }
   ],
   "source": [
    "# bt = open(\"bloodtype1.txt\", \"w\")\n",
    "# bt.write(\"AB AB B O A A AB O AB A O O A A A O O O AB O A A A A A AB AB A AB O AB O A O O O AB O AB AB AB A A O \")\n",
    "# bt.close()\n",
    "\n",
    "def bldcount(name):\n",
    "    with open(name) as file:\n",
    "        a = 0\n",
    "        b = 0\n",
    "        ab = 0\n",
    "        o = 0\n",
    "        oo = 0\n",
    "        record = file.read()\n",
    "        data = record.split()\n",
    "        for bc in data:\n",
    "            if bc == \"A\":\n",
    "                a = a + 1\n",
    "            elif bc == \"B\":\n",
    "                b = b + 1\n",
    "            elif bc == \"AB\":\n",
    "                ab = ab + 1\n",
    "            elif bc == \"O\":\n",
    "                o = o + 1\n",
    "            elif bc == \"OO\":\n",
    "                oo = oo + 1\n",
    "        print(\"There are\", a, \"patients of blood type A.\")\n",
    "        print(\"There are\", b, \"patients of blood type B.\")\n",
    "        print(\"There are\", ab, \"patients of blood type AB.\")\n",
    "        print(\"There are\", o, \"patients of blood type O.\")\n",
    "        print(\"There are\", oo, \"patients of blood type OO.\")\n",
    "\n",
    "    \n",
    "bldcount(\"bloodtype1.txt\")"
   ]
  },
  {
   "cell_type": "markdown",
   "id": "9a3f19c6",
   "metadata": {},
   "source": [
    "### Question 8 - Write a function curconv() that takes as input: 1. a currency represented using a string (e.g., 'JPY' for the Japanese Yen or 'EUR' fot the Euro) 2. an amount, and then converts and returns the amount in US dollars."
   ]
  },
  {
   "cell_type": "code",
   "execution_count": 8,
   "id": "6a0421ae",
   "metadata": {},
   "outputs": [
    {
     "name": "stdout",
     "output_type": "stream",
     "text": [
      "122.96544\n",
      "1.241401\n"
     ]
    }
   ],
   "source": [
    "# cur = open(\"currencies.txt\", \"w\")\n",
    "# cur.write('''AUD\t1.0345157\tAustralian Dollar\n",
    "# CHF\t1.0237414\tSwiss Franc\n",
    "# CNY\t0.1550176\tChinese Yuan\n",
    "# DKK\t0.1651442\tDanish Krone\n",
    "# EUR\t1.2296544\tEuro\n",
    "# GBP\t1.5550989\tBritish Pound\n",
    "# HKD\t0.1270207\tHong Kong Dollar\n",
    "# INR\t0.0177643\tIndian Rupee\n",
    "# JPY\t0.01241401\tJapanese Yen\n",
    "# MXN\t0.0751848\tMexican Peso\n",
    "# MYR\t0.3145411\tMalaysian Ringgit\n",
    "# NOK\t0.1677063\tNorwegian Krone\n",
    "# NZD\t0.8003591\tNew Zealand Dollar\n",
    "# PHP\t0.0233234\tPhilippine Peso\n",
    "# SEK\t0.148269\tSwedish Krona\n",
    "# SGD\t0.788871\tSingapore Dollar\n",
    "# THB\t0.0313789\tThai Baht''')\n",
    "# cur.close()\n",
    "\n",
    "def curconv(cur, amt):\n",
    "    with open(\"currencies.txt\") as sample:\n",
    "        cur_USD = 0\n",
    "        all_lines = sample.readlines()\n",
    "        for one_line in all_lines:\n",
    "            if cur in one_line.strip():\n",
    "                values = one_line.split()\n",
    "                cur_USD = amt * float(values[1])\n",
    "                print(cur_USD)\n",
    "            \n",
    "        \n",
    "curconv(\"EUR\", 100)\n",
    "curconv(\"JPY\", 100)"
   ]
  },
  {
   "cell_type": "markdown",
   "id": "f5055ea7",
   "metadata": {},
   "source": [
    "### Question 9 - Each of the following will cause an exception (an error). Identify what type of exception each will cause."
   ]
  },
  {
   "cell_type": "markdown",
   "id": "790fb25f",
   "metadata": {},
   "source": [
    "#### a. Trying to add incompatible variables, as in adding 6 + 'a'"
   ]
  },
  {
   "cell_type": "code",
   "execution_count": 9,
   "id": "a3148d7c",
   "metadata": {},
   "outputs": [
    {
     "ename": "TypeError",
     "evalue": "unsupported operand type(s) for +: 'int' and 'str'",
     "output_type": "error",
     "traceback": [
      "\u001b[1;31m---------------------------------------------------------------------------\u001b[0m",
      "\u001b[1;31mTypeError\u001b[0m                                 Traceback (most recent call last)",
      "Input \u001b[1;32mIn [9]\u001b[0m, in \u001b[0;36m<cell line: 1>\u001b[1;34m()\u001b[0m\n\u001b[1;32m----> 1\u001b[0m \u001b[38;5;28mprint\u001b[39m(\u001b[38;5;241;43m6\u001b[39;49m\u001b[43m \u001b[49m\u001b[38;5;241;43m+\u001b[39;49m\u001b[43m \u001b[49m\u001b[38;5;124;43m'\u001b[39;49m\u001b[38;5;124;43ma\u001b[39;49m\u001b[38;5;124;43m'\u001b[39;49m)\n",
      "\u001b[1;31mTypeError\u001b[0m: unsupported operand type(s) for +: 'int' and 'str'"
     ]
    }
   ],
   "source": [
    "print(6 + 'a')\n",
    "\n",
    "# ERROR : TypeError"
   ]
  },
  {
   "cell_type": "markdown",
   "id": "29aa8c89",
   "metadata": {},
   "source": [
    "#### b. Referring to the 12th item of a list that has only 10 items"
   ]
  },
  {
   "cell_type": "code",
   "execution_count": 10,
   "id": "0ec3cd30",
   "metadata": {},
   "outputs": [
    {
     "ename": "IndexError",
     "evalue": "list index out of range",
     "output_type": "error",
     "traceback": [
      "\u001b[1;31m---------------------------------------------------------------------------\u001b[0m",
      "\u001b[1;31mIndexError\u001b[0m                                Traceback (most recent call last)",
      "Input \u001b[1;32mIn [10]\u001b[0m, in \u001b[0;36m<cell line: 3>\u001b[1;34m()\u001b[0m\n\u001b[0;32m      1\u001b[0m myList \u001b[38;5;241m=\u001b[39m [\u001b[38;5;241m0\u001b[39m, \u001b[38;5;241m1\u001b[39m, \u001b[38;5;241m2\u001b[39m, \u001b[38;5;241m3\u001b[39m, \u001b[38;5;241m4\u001b[39m, \u001b[38;5;241m5\u001b[39m, \u001b[38;5;241m6\u001b[39m, \u001b[38;5;241m7\u001b[39m, \u001b[38;5;241m8\u001b[39m, \u001b[38;5;241m9\u001b[39m]\n\u001b[1;32m----> 3\u001b[0m \u001b[38;5;28mprint\u001b[39m(\u001b[43mmyList\u001b[49m\u001b[43m[\u001b[49m\u001b[38;5;241;43m11\u001b[39;49m\u001b[43m]\u001b[49m)\n",
      "\u001b[1;31mIndexError\u001b[0m: list index out of range"
     ]
    }
   ],
   "source": [
    "myList = [0, 1, 2, 3, 4, 5, 6, 7, 8, 9]\n",
    "\n",
    "print(myList[11])\n",
    "\n",
    "# ERROR : IndexError"
   ]
  },
  {
   "cell_type": "markdown",
   "id": "9419ae99",
   "metadata": {},
   "source": [
    "#### c. Using a value that is out of range for a function's input, such as calling math.sqrt(-1.0)"
   ]
  },
  {
   "cell_type": "code",
   "execution_count": 11,
   "id": "1cbf9015",
   "metadata": {},
   "outputs": [
    {
     "ename": "ValueError",
     "evalue": "math domain error",
     "output_type": "error",
     "traceback": [
      "\u001b[1;31m---------------------------------------------------------------------------\u001b[0m",
      "\u001b[1;31mValueError\u001b[0m                                Traceback (most recent call last)",
      "Input \u001b[1;32mIn [11]\u001b[0m, in \u001b[0;36m<cell line: 3>\u001b[1;34m()\u001b[0m\n\u001b[0;32m      1\u001b[0m \u001b[38;5;28;01mimport\u001b[39;00m \u001b[38;5;21;01mmath\u001b[39;00m\n\u001b[1;32m----> 3\u001b[0m \u001b[38;5;28mprint\u001b[39m(\u001b[43mmath\u001b[49m\u001b[38;5;241;43m.\u001b[39;49m\u001b[43msqrt\u001b[49m\u001b[43m(\u001b[49m\u001b[38;5;241;43m-\u001b[39;49m\u001b[38;5;241;43m1.0\u001b[39;49m\u001b[43m)\u001b[49m)\n",
      "\u001b[1;31mValueError\u001b[0m: math domain error"
     ]
    }
   ],
   "source": [
    "import math\n",
    "\n",
    "print(math.sqrt(-1.0))\n",
    "\n",
    "# ERROR : ValueError"
   ]
  },
  {
   "cell_type": "markdown",
   "id": "8c79963b",
   "metadata": {},
   "source": [
    "#### d. Using an undeclared variable, such as print(x) when x has not been defined"
   ]
  },
  {
   "cell_type": "code",
   "execution_count": 12,
   "id": "52161929",
   "metadata": {},
   "outputs": [
    {
     "ename": "NameError",
     "evalue": "name 'a' is not defined",
     "output_type": "error",
     "traceback": [
      "\u001b[1;31m---------------------------------------------------------------------------\u001b[0m",
      "\u001b[1;31mNameError\u001b[0m                                 Traceback (most recent call last)",
      "Input \u001b[1;32mIn [12]\u001b[0m, in \u001b[0;36m<cell line: 1>\u001b[1;34m()\u001b[0m\n\u001b[1;32m----> 1\u001b[0m \u001b[38;5;28mprint\u001b[39m(\u001b[43ma\u001b[49m)\n",
      "\u001b[1;31mNameError\u001b[0m: name 'a' is not defined"
     ]
    }
   ],
   "source": [
    "print(a)\n",
    "\n",
    "# ERROR : NameError"
   ]
  },
  {
   "cell_type": "markdown",
   "id": "9fba32c1",
   "metadata": {},
   "source": [
    "#### e. Trying to open a file that does not exist, such as mistyping the file name or looking in the wrong directory."
   ]
  },
  {
   "cell_type": "code",
   "execution_count": 13,
   "id": "3daf5de1",
   "metadata": {},
   "outputs": [
    {
     "ename": "FileNotFoundError",
     "evalue": "[Errno 2] No such file or directory: 'priyanshu.txt'",
     "output_type": "error",
     "traceback": [
      "\u001b[1;31m---------------------------------------------------------------------------\u001b[0m",
      "\u001b[1;31mFileNotFoundError\u001b[0m                         Traceback (most recent call last)",
      "Input \u001b[1;32mIn [13]\u001b[0m, in \u001b[0;36m<cell line: 1>\u001b[1;34m()\u001b[0m\n\u001b[1;32m----> 1\u001b[0m sampleFile \u001b[38;5;241m=\u001b[39m \u001b[38;5;28;43mopen\u001b[39;49m\u001b[43m(\u001b[49m\u001b[38;5;124;43m\"\u001b[39;49m\u001b[38;5;124;43mpriyanshu.txt\u001b[39;49m\u001b[38;5;124;43m\"\u001b[39;49m\u001b[43m,\u001b[49m\u001b[43m \u001b[49m\u001b[38;5;124;43m\"\u001b[39;49m\u001b[38;5;124;43mr\u001b[39;49m\u001b[38;5;124;43m\"\u001b[39;49m\u001b[43m)\u001b[49m\n\u001b[0;32m      2\u001b[0m \u001b[38;5;28mprint\u001b[39m(sampleFile\u001b[38;5;241m.\u001b[39mread())\n",
      "\u001b[1;31mFileNotFoundError\u001b[0m: [Errno 2] No such file or directory: 'priyanshu.txt'"
     ]
    }
   ],
   "source": [
    "sampleFile = open(\"priyanshu.txt\", \"r\")\n",
    "print(sampleFile.read())\n",
    "\n",
    "# ERROR : FileNotFoundError"
   ]
  },
  {
   "cell_type": "markdown",
   "id": "28fb2504",
   "metadata": {},
   "source": [
    "### Question 10 - Write a function called frequencies() that takes a string as its only parameter, and returns a list of integers, showing the number of times each character appears in the text. Your function may ignore any character that are not in letters."
   ]
  },
  {
   "cell_type": "code",
   "execution_count": 1,
   "id": "a44a4e1c",
   "metadata": {},
   "outputs": [
    {
     "name": "stdout",
     "output_type": "stream",
     "text": [
      "[1, 1, 1, 3, 5, 1, 1, 2, 1, 0, 1, 0, 1, 2, 4, 0, 1, 2, 0, 2, 1, 0, 1, 1, 0, 0]\n",
      "[1, 0, 0, 0, 1, 0, 0, 0, 0, 0, 0, 1, 0, 0, 0, 2, 0, 0, 0, 0, 0, 0, 0, 0, 0, 0]\n"
     ]
    }
   ],
   "source": [
    "import string\n",
    "\n",
    "def frequencies(name):\n",
    "    letters = string.ascii_lowercase\n",
    "    numbers = range(26)\n",
    "    finalList = []\n",
    "    for alpha in letters:\n",
    "        val = name.count(alpha)\n",
    "        finalList.append(val)\n",
    "    print(finalList)\n",
    "        \n",
    "frequencies(\"The quick red fox got bored and went home.\")\n",
    "frequencies(\"apple\")"
   ]
  }
 ],
 "metadata": {
  "kernelspec": {
   "display_name": "Python 3 (ipykernel)",
   "language": "python",
   "name": "python3"
  },
  "language_info": {
   "codemirror_mode": {
    "name": "ipython",
    "version": 3
   },
   "file_extension": ".py",
   "mimetype": "text/x-python",
   "name": "python",
   "nbconvert_exporter": "python",
   "pygments_lexer": "ipython3",
   "version": "3.9.12"
  }
 },
 "nbformat": 4,
 "nbformat_minor": 5
}
