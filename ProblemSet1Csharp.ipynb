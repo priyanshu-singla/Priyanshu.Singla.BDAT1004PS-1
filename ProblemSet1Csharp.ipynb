{
 "cells": [
  {
   "cell_type": "markdown",
   "id": "9be85195",
   "metadata": {},
   "source": [
    "<h1 style=\"font-size:3rem;color:orange;\"> Problem Set 1 - Solutions - C#</h1>"
   ]
  },
  {
   "cell_type": "markdown",
   "id": "09ee69dd",
   "metadata": {},
   "source": [
    "<h1 style=\"font-size:2.5rem;color:green;\"> Priyanshu Singla - 200522518 - Sction 4</h1>"
   ]
  },
  {
   "cell_type": "markdown",
   "id": "8fc18f22",
   "metadata": {},
   "source": [
    "### Question 1 - What data type is each of the following:"
   ]
  },
  {
   "cell_type": "markdown",
   "id": "298e9b74",
   "metadata": {},
   "source": [
    "1. 5 = Integer\n",
    "2. 5.0 = Float\n",
    "3. 5 > 1 = Boolean\n",
    "4. '5' = Character\n",
    "5. 5 * 2 = Integer\n",
    "6. '5' * 2 = Integer\n",
    "7. '5' + '2' = Integer\n",
    "8. 5 / 2 = Integer\n",
    "9. 5 % 2 = Integer\n",
    "10. {5, 2, 1} = List\n",
    "11. 5 == 3 = Boolean\n",
    "12. Pi (the number) = Float"
   ]
  },
  {
   "cell_type": "markdown",
   "id": "08f87f9d",
   "metadata": {},
   "source": [
    "### Question 2 - Write and evaluate C# expressions that answer these questions:"
   ]
  },
  {
   "cell_type": "markdown",
   "id": "730f9691",
   "metadata": {},
   "source": [
    "#### a. how many letters are there in 'Supercalifragilisticexpialidocious'?"
   ]
  },
  {
   "cell_type": "code",
   "execution_count": 2,
   "id": "412cacfe",
   "metadata": {},
   "outputs": [
    {
     "name": "stdout",
     "output_type": "stream",
     "text": [
      "34"
     ]
    }
   ],
   "source": [
    "string word = \"Supercalifragilisticexpialidocious\";\n",
    "\n",
    "int length = 0;\n",
    "\n",
    "foreach(int ch in word)\n",
    "{\n",
    "    length ++;\n",
    "}\n",
    "\n",
    "Console.Write(length);"
   ]
  },
  {
   "cell_type": "markdown",
   "id": "780c5463",
   "metadata": {},
   "source": [
    "#### b. Does 'Supercalifragilisticexpialidocious' contain 'ice' as a substring?"
   ]
  },
  {
   "cell_type": "code",
   "execution_count": 3,
   "id": "4f3d6210",
   "metadata": {},
   "outputs": [
    {
     "name": "stdout",
     "output_type": "stream",
     "text": [
      "Supercalifragilisticexpialidocious contain ice as a substring"
     ]
    }
   ],
   "source": [
    "string word = \"Supercalifragilisticexpialidocious\";\n",
    "\n",
    "string find = \"ice\";\n",
    "\n",
    "bool result = word.Contains(find);\n",
    "\n",
    "if(result == true)\n",
    "{\n",
    "    Console.Write($\"{word} contain {find} as a substring\");\n",
    "}\n",
    "else\n",
    "{\n",
    "    Console.Write($\"{word} does not contain {find} as a substring\");\n",
    "}"
   ]
  },
  {
   "cell_type": "markdown",
   "id": "02f0413d",
   "metadata": {},
   "source": [
    "#### c. Which of the following words is the longest:\n",
    "#### Supercalifragilisticexpialidocious, Honorificabilitudinitatibus, or Bababadalgharaghtakamminarronnkonn?"
   ]
  },
  {
   "cell_type": "code",
   "execution_count": 10,
   "id": "4a45a51d",
   "metadata": {},
   "outputs": [
    {
     "name": "stdout",
     "output_type": "stream",
     "text": [
      "Supercalifragilisticexpialidocious and Bababadalgharaghtakamminarronnkonn are longest\r\n"
     ]
    }
   ],
   "source": [
    "string word1 = \"Supercalifragilisticexpialidocious\";\n",
    "string word2 = \"Honorificabilitudinitatibus\";\n",
    "string word3 = \"Bababadalgharaghtakamminarronnkonn\";\n",
    "\n",
    "int length1 = word1.Length;\n",
    "int length2 = word2.Length;\n",
    "int length3 = word3.Length;\n",
    "\n",
    "if(length1 == length2 && length1 == length3)\n",
    "{\n",
    "    Console.WriteLine($\"{word1}, {word2}, and {word3} all are longest.\");\n",
    "}\n",
    "\n",
    "if(length1 > length2)\n",
    "{\n",
    "    if(length1 > length3)\n",
    "    {\n",
    "        Console.WriteLine($\"{word1} is longest\");\n",
    "    }\n",
    "    if(length3 > length1)\n",
    "    {\n",
    "        Console.WriteLine($\"{word3} is longest\");\n",
    "    }\n",
    "    if(length1 == length3)\n",
    "    {\n",
    "        Console.WriteLine($\"{word1} and {word3} are longest\");\n",
    "    }\n",
    "}\n",
    "if(length2 > length3)\n",
    "{\n",
    "    {\n",
    "        Console.WriteLine($\"{word2} is longest\");\n",
    "    }\n",
    "    if(length3 > length2)\n",
    "    {\n",
    "        Console.WriteLine($\"{word3} is longest\");\n",
    "    }\n",
    "    if(length2 == length3)\n",
    "    {\n",
    "        Console.WriteLine($\"{word2} and {word3} are longest\");\n",
    "    }\n",
    "}"
   ]
  },
  {
   "cell_type": "markdown",
   "id": "e536a9e4",
   "metadata": {},
   "source": [
    "#### d. Which composer comes first in the dictionary:\n",
    "#### 'Berlioz', 'Borodin', 'Brian', 'Bartok', 'Bellini', 'Buxtehude', 'Bernstein'. Which one comes last?"
   ]
  },
  {
   "cell_type": "code",
   "execution_count": 5,
   "id": "35a4e5e1",
   "metadata": {},
   "outputs": [
    {
     "name": "stdout",
     "output_type": "stream",
     "text": [
      "First composer in the dictionary : Bartok\n",
      "Last composer in the dictionary : Buxtehude\n"
     ]
    }
   ],
   "source": [
    "var myDictionary = new List<string>();\n",
    "\n",
    "myDictionary.Add(\"Berlioz\");\n",
    "myDictionary.Add(\"Borodin\");\n",
    "myDictionary.Add(\"Brian\");\n",
    "myDictionary.Add(\"Bartok\");\n",
    "myDictionary.Add(\"Bellini\");\n",
    "myDictionary.Add(\"Buxtehude\");\n",
    "myDictionary.Add(\"Bernstein\");\n",
    "\n",
    "myDictionary.Sort();\n",
    "int x = myDictionary.Count;\n",
    "\n",
    "Console.WriteLine($\"First composer in the dictionary : {myDictionary[0]}\");\n",
    "Console.WriteLine($\"Last composer in the dictionary : {myDictionary[x-1]}\");"
   ]
  },
  {
   "cell_type": "markdown",
   "id": "1e2762f2",
   "metadata": {},
   "source": [
    "### Question 3. Implement function triangleArea(a, b, c) that takes as input the lengths of the 3 sides of a triangle and returns the area of the triangle using Heron's formula."
   ]
  },
  {
   "cell_type": "code",
   "execution_count": 6,
   "id": "abfc679b",
   "metadata": {},
   "outputs": [
    {
     "name": "stdout",
     "output_type": "stream",
     "text": [
      "Area of triangle is - 1.7320508075688772"
     ]
    }
   ],
   "source": [
    "public void triangleArea(int a, int b, int c)\n",
    "{\n",
    "    double s = (a + b + c) / 2;\n",
    "    double triangleArea = Math.Sqrt(s * (s - a) * (s - b) * (s - c));\n",
    "    Console.Write($\"Area of triangle is - {triangleArea}\");\n",
    "}\n",
    "\n",
    "triangleArea(2, 2, 2);"
   ]
  },
  {
   "cell_type": "markdown",
   "id": "625f6d7d",
   "metadata": {},
   "source": [
    "### Question 4. Write a program in C# to separate odd and even integers in separate arrays."
   ]
  },
  {
   "cell_type": "code",
   "execution_count": null,
   "id": "052a5e38",
   "metadata": {},
   "outputs": [
    {
     "name": "stdout",
     "output_type": "stream",
     "text": [
      "The Even elements are :\n",
      "42 56 32 \n",
      "The Odd elements are :\n",
      "25 47 "
     ]
    }
   ],
   "source": [
    "int[] masterArray, evenArray, oddArray;\n",
    "\n",
    "//masterArray= new int[5]{25, 47, 42, 56, 32};\n",
    "\n",
    "masterArray = new int[5];\n",
    "masterArray[0] = 25;\n",
    "masterArray[1] = 47;\n",
    "masterArray[2] = 42;\n",
    "masterArray[3] = 56;\n",
    "masterArray[4] = 32;\n",
    "\n",
    "evenArray = new int[5];\n",
    "oddArray = new int[5];\n",
    "\n",
    "int a = 0;\n",
    "int b = 0;\n",
    "\n",
    "foreach (int v in masterArray)\n",
    "{\n",
    "    if (v % 2 == 0)\n",
    "    {\n",
    "        evenArray[a] = v;\n",
    "        a++;\n",
    "    }\n",
    "    else\n",
    "    {\n",
    "        oddArray[b] = v;\n",
    "        b++;\n",
    "    }\n",
    "}\n",
    "\n",
    "Console.WriteLine(\"The Even elements are :\");\n",
    "for(int e = 0; e < a; e++)\n",
    "{\n",
    "    Console.Write(evenArray[e] + \" \");\n",
    "}\n",
    "\n",
    "Console.WriteLine();\n",
    "Console.WriteLine(\"The Odd elements are :\");\n",
    "for (int o = 0; o < b; o++)\n",
    "{\n",
    "    Console.Write(oddArray[o] + \" \");\n",
    "}"
   ]
  },
  {
   "cell_type": "markdown",
   "id": "e37cb37c",
   "metadata": {},
   "source": [
    "### Queestion 5. Write a function inside(x, y, x1, y1, x2, y2) that returns True or False depending upon whether the point (x, y) lies in the rectangle with lower left corner (x1, y1) and upper right corner (x2, y2)."
   ]
  },
  {
   "cell_type": "markdown",
   "id": "d0b006ac",
   "metadata": {},
   "source": [
    "#### a. inside(1, 1, 0, 0, 2, 3), inside(-1, -1, 0, 0, 2, 3)"
   ]
  },
  {
   "cell_type": "code",
   "execution_count": 8,
   "id": "62a92713",
   "metadata": {},
   "outputs": [
    {
     "name": "stdout",
     "output_type": "stream",
     "text": [
      "True\n",
      "False\n"
     ]
    }
   ],
   "source": [
    "static bool inside(double x, double y, double x1, double y1, double x2, double y2)\n",
    "{\n",
    "    if (x >= x1 && x <= x2 && y >= y1 && y <= y2)\n",
    "    {\n",
    "        Console.WriteLine(\"True\");\n",
    "        return true;\n",
    "\n",
    "    }\n",
    "    else\n",
    "    {\n",
    "        Console.WriteLine(\"False\");\n",
    "        return false;\n",
    "    }\n",
    "       \n",
    "}\n",
    "\n",
    "bool ex1 = inside(1, 1, 0, 0, 2, 3);\n",
    "bool ex2 = inside(-1, -1, 0, 0, 2, 3);"
   ]
  },
  {
   "cell_type": "markdown",
   "id": "97be1aa4",
   "metadata": {},
   "source": [
    "#### b. inside(1, 1, 0.3, 0.5, 1.1, 0.7), inside(1, 1, 0.5, 0.2, 1.1, 2)"
   ]
  },
  {
   "cell_type": "code",
   "execution_count": 9,
   "id": "9ee9dfb0",
   "metadata": {},
   "outputs": [
    {
     "name": "stdout",
     "output_type": "stream",
     "text": [
      "False\n",
      "True\n"
     ]
    }
   ],
   "source": [
    "static bool inside(double x, double y, double x1, double y1, double x2, double y2)\n",
    "{\n",
    "    if (x >= x1 && x <= x2 && y >= y1 && y <= y2)\n",
    "    {\n",
    "        Console.WriteLine(\"True\");\n",
    "        return true;\n",
    "\n",
    "    }\n",
    "    else\n",
    "    {\n",
    "        Console.WriteLine(\"False\");\n",
    "        return false;\n",
    "    }\n",
    "       \n",
    "}\n",
    "\n",
    "bool ex1 = inside(1, 1, 0.3, 0.5, 1.1, 0.7);\n",
    "bool ex2 = inside(1, 1, 0.5, 0.2, 1.1, 2);"
   ]
  }
 ],
 "metadata": {
  "kernelspec": {
   "display_name": ".NET (C#)",
   "language": "C#",
   "name": ".net-csharp"
  },
  "language_info": {
   "file_extension": ".cs",
   "mimetype": "text/x-csharp",
   "name": "C#",
   "pygments_lexer": "csharp",
   "version": "8.0"
  }
 },
 "nbformat": 4,
 "nbformat_minor": 5
}
